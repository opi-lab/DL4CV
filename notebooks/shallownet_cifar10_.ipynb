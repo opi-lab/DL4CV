{
  "nbformat": 4,
  "nbformat_minor": 0,
  "metadata": {
    "colab": {
      "provenance": [],
      "authorship_tag": "ABX9TyPxJHtPc5UQLZG1R0/iBFPa",
      "include_colab_link": true
    },
    "kernelspec": {
      "name": "python3",
      "display_name": "Python 3"
    },
    "language_info": {
      "name": "python"
    }
  },
  "cells": [
    {
      "cell_type": "markdown",
      "metadata": {
        "id": "view-in-github",
        "colab_type": "text"
      },
      "source": [
        "<a href=\"https://colab.research.google.com/github/opi-lab/DL4CV/blob/main/notebooks/shallownet_cifar10_.ipynb\" target=\"_parent\"><img src=\"https://colab.research.google.com/assets/colab-badge.svg\" alt=\"Open In Colab\"/></a>"
      ]
    },
    {
      "cell_type": "markdown",
      "source": [
        "# ShallowNet on CIFAR-10\n",
        "\n",
        "Let’s also apply the ShallowNet architecture to the CIFAR-10 dataset to see if we can improve our results."
      ],
      "metadata": {
        "id": "_mMhSm35tKu3"
      }
    },
    {
      "cell_type": "code",
      "source": [
        "!wget -O pyimagesearch.zip https://www.dropbox.com/s/mcbvf7wbrq78op3/pyimagesearch.zip?dl=0\n",
        "!unzip pyimagesearch.zip"
      ],
      "metadata": {
        "id": "Ov1S4IHMtVlq"
      },
      "execution_count": null,
      "outputs": []
    },
    {
      "cell_type": "code",
      "execution_count": null,
      "metadata": {
        "id": "2tELDLTHtH8U"
      },
      "outputs": [],
      "source": [
        "# import the necessary packages\n",
        "from sklearn.preprocessing import LabelBinarizer\n",
        "from sklearn.metrics import classification_report\n",
        "from pyimagesearch.nn.conv import ShallowNet\n",
        "from tensorflow.keras.optimizers import SGD\n",
        "from tensorflow.keras.datasets import cifar10\n",
        "import matplotlib.pyplot as plt\n",
        "import numpy as np"
      ]
    },
    {
      "cell_type": "code",
      "source": [
        "# load the training and testing data, then scale it into the\n",
        "# range [0, 1]\n",
        "print(\"[INFO] loading CIFAR-10 data...\")\n",
        "((trainX, trainY), (testX, testY)) = cifar10.load_data()\n",
        "trainX = trainX.astype(\"float\") / 255.0\n",
        "testX = testX.astype(\"float\") / 255.0"
      ],
      "metadata": {
        "id": "xqpHPGZ_tlWK"
      },
      "execution_count": null,
      "outputs": []
    },
    {
      "cell_type": "markdown",
      "source": [
        "Carry on ..."
      ],
      "metadata": {
        "id": "sfDcTrEp4W4C"
      }
    }
  ]
}